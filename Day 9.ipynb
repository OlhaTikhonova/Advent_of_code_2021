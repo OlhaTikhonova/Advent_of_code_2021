{
 "cells": [
  {
   "cell_type": "code",
   "execution_count": 74,
   "metadata": {},
   "outputs": [
    {
     "name": "stdout",
     "output_type": "stream",
     "text": [
      "423\n"
     ]
    }
   ],
   "source": [
    "#Part1 \n",
    "with open('input_D9.txt','r') as file:\n",
    "    (x,y)=(0,0)\n",
    "    canvas= dict()\n",
    "    file_content=file.readline().strip()\n",
    "    while file_content:\n",
    "        #print(file_content)\n",
    "        for num in file_content:\n",
    "            canvas[(x,y)] = int(num)\n",
    "            \n",
    "            x+=1\n",
    "        y+=1\n",
    "        x=0\n",
    "        file_content=file.readline().strip()\n",
    "#print(canvas)\n",
    "def neighbours(p):\n",
    "    (x,y) = p\n",
    "    matrix=[-1,0,1]\n",
    "    return [((x+dx),(y+dy))\n",
    "           for dx in matrix \n",
    "           for dy in matrix\n",
    "           if ((dx ==0 or dy ==0) and dx!=dy)]\n",
    "list_risk=[]\n",
    "for (x,y),value in canvas.items():\n",
    "    p=neighbours((x,y))\n",
    "    #print('neighbors coord:',p)\n",
    "    under_question=canvas[(x,y)]\n",
    "    #print('under_question: ',under_question)\n",
    "    neigboring_digits=[]\n",
    "    for item in p:\n",
    "        #print('coordinates:', item)\n",
    "        if item in canvas:\n",
    "            v=canvas[item]\n",
    "            neigboring_digits.append(v)\n",
    "            #print('neigbors values',neigboring_digits )\n",
    "    if all(i > under_question for i in neigboring_digits):\n",
    "        list_risk.append(under_question+1)\n",
    "        #print(\"true\")\n",
    "            \n",
    "        \n",
    "#print(list_risk)\n",
    "print(sum(list_risk))"
   ]
  },
  {
   "cell_type": "code",
   "execution_count": 73,
   "metadata": {},
   "outputs": [
    {
     "name": "stdout",
     "output_type": "stream",
     "text": [
      "1198704\n"
     ]
    }
   ],
   "source": [
    "#Part2 \n",
    "with open('input_D9.txt','r') as file:\n",
    "    (x,y)=(0,0)\n",
    "    canvas= dict()\n",
    "    file_content=file.readline().strip()\n",
    "    while file_content:\n",
    "        #print(file_content)\n",
    "        for num in file_content:\n",
    "            canvas[(x,y)] = int(num)\n",
    "            \n",
    "            x+=1\n",
    "        y+=1\n",
    "        x=0\n",
    "        file_content=file.readline().strip()\n",
    "#print(canvas)\n",
    "def neighbours(p):\n",
    "    (x,y) = p\n",
    "    matrix=[-1,0,1]\n",
    "    return [((x+dx),(y+dy))\n",
    "           for dx in matrix \n",
    "           for dy in matrix\n",
    "           if ((dx ==0 or dy ==0) and dx!=dy)]\n",
    "list_risk=[]\n",
    "for (x,y),value in canvas.items():\n",
    "    p=neighbours((x,y))\n",
    "    #print('neighbors coord:',p)\n",
    "    under_question=canvas[(x,y)]\n",
    "    #print('under_question: ',under_question)\n",
    "    neigboring_digits=[]\n",
    "    for item in p:\n",
    "        #print('coordinates:', item)\n",
    "        if item in canvas:\n",
    "            v=canvas[item]\n",
    "            neigboring_digits.append(v)\n",
    "            #print('neigbors values',neigboring_digits )\n",
    "    if all(i > under_question for i in neigboring_digits):\n",
    "        list_risk.append((x,y))\n",
    "        #print(\"true\")\n",
    "            \n",
    "        \n",
    "#print(list_risk)\n",
    "sizes_of_basin=[]\n",
    "for (x,y) in list_risk:\n",
    "    size=0\n",
    "    to_look_for=[]\n",
    "    \n",
    "    to_look_for.append((x,y))\n",
    "    while to_look_for:\n",
    "        key=to_look_for.pop()\n",
    "        p=neighbours(key)\n",
    "                   \n",
    "        for item in p:\n",
    "            if item in canvas:\n",
    "                v=canvas[item]\n",
    "                if v!=9:\n",
    "                    to_look_for.append(item)\n",
    "                    canvas[item]=9\n",
    "                    size+=1\n",
    "    sizes_of_basin.append(size)\n",
    "#print(sizes_of_basin)\n",
    "sizes_of_basin.sort(reverse=True)\n",
    "#print(sizes_of_basin)\n",
    "three_largest = sizes_of_basin[0]*sizes_of_basin[1]*sizes_of_basin[2]\n",
    "print(three_largest)"
   ]
  },
  {
   "cell_type": "code",
   "execution_count": null,
   "metadata": {},
   "outputs": [],
   "source": []
  }
 ],
 "metadata": {
  "kernelspec": {
   "display_name": "Python 3",
   "language": "python",
   "name": "python3"
  },
  "language_info": {
   "codemirror_mode": {
    "name": "ipython",
    "version": 3
   },
   "file_extension": ".py",
   "mimetype": "text/x-python",
   "name": "python",
   "nbconvert_exporter": "python",
   "pygments_lexer": "ipython3",
   "version": "3.9.0"
  }
 },
 "nbformat": 4,
 "nbformat_minor": 4
}
