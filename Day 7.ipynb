{
 "cells": [
  {
   "cell_type": "code",
   "execution_count": 35,
   "metadata": {},
   "outputs": [],
   "source": [
    "#Part1 \n",
    "input_data=open('input_D7.txt','r')\n",
    "input_num=input_data.read().strip()\n",
    "input_data.close()\n",
    "input_list=[int(num) for num in input_num.split(',')]\n",
    "#print(input_list)\n",
    "\n",
    "#print(max(input_list))"
   ]
  },
  {
   "cell_type": "code",
   "execution_count": 27,
   "metadata": {},
   "outputs": [
    {
     "name": "stdout",
     "output_type": "stream",
     "text": [
      "347449\n"
     ]
    }
   ],
   "source": [
    "#Part1\n",
    "total_fuel=[]\n",
    "\n",
    "for chosen in range (1,max(input_list)):\n",
    "    sum_fuel=0\n",
    "    for i in input_list:\n",
    "        #print(chosen,i ,'step, i')\n",
    "        if i>chosen:\n",
    "            fuel=i-chosen\n",
    "            #print('fuel',fuel)\n",
    "        elif chosen==i:\n",
    "            fuel = 0\n",
    "        else:\n",
    "            fuel=chosen-i\n",
    "            #print('fuel',fuel)    \n",
    "        sum_fuel+=fuel\n",
    "        #print('sum_fuel',sum_fuel)\n",
    "    total_fuel.append(sum_fuel)\n",
    "    #print('total_fuel', total_fuel)\n",
    "print(min(total_fuel))"
   ]
  },
  {
   "cell_type": "code",
   "execution_count": 31,
   "metadata": {},
   "outputs": [
    {
     "name": "stdout",
     "output_type": "stream",
     "text": [
      "98039527\n"
     ]
    }
   ],
   "source": [
    "#Part2\n",
    "\n",
    "input_data=open('input_D7.txt','r')\n",
    "input_num=input_data.read().strip()\n",
    "input_data.close()\n",
    "input_list=[int(num) for num in input_num.split(',')]\n",
    "#print(input_list)\n",
    "\n",
    "total_fuel=[]\n",
    "\n",
    "for chosen in range (1,max(input_list)):\n",
    "    sum_fuel=0\n",
    "    for i in input_list:\n",
    "        #print(chosen,i ,'step, i')\n",
    "        if i>chosen:\n",
    "            fuel=sum ([ x for x in range(1,i-chosen+1)])\n",
    "            #print('fuel',fuel)\n",
    "        elif chosen==i:\n",
    "            fuel = 0\n",
    "        else:\n",
    "            fuel=sum([x for x in range(1,chosen-i+1)])\n",
    "            #print('fuel',fuel)    \n",
    "        sum_fuel+=fuel\n",
    "        #print('sum_fuel',sum_fuel)\n",
    "    total_fuel.append(sum_fuel)\n",
    "    #print('total_fuel', total_fuel)\n",
    "print(min(total_fuel))"
   ]
  },
  {
   "cell_type": "code",
   "execution_count": 33,
   "metadata": {},
   "outputs": [
    {
     "name": "stdout",
     "output_type": "stream",
     "text": [
      "98039527.0\n"
     ]
    }
   ],
   "source": [
    "#Part2 -with formula -much faster\n",
    "\n",
    "input_data=open('input_D7.txt','r')\n",
    "input_num=input_data.read().strip()\n",
    "input_data.close()\n",
    "input_list=[int(num) for num in input_num.split(',')]\n",
    "#print(input_list)\n",
    "\n",
    "total_fuel=[]\n",
    "\n",
    "for chosen in range (1,max(input_list)):\n",
    "    sum_fuel=0\n",
    "    for i in input_list:\n",
    "        #print(chosen,i ,'step, i')\n",
    "        if i>chosen:\n",
    "            fuel=(i-chosen)\n",
    "            fuel=fuel*(fuel+1)/2\n",
    "            #print('fuel',fuel)\n",
    "        elif chosen==i:\n",
    "            fuel = 0\n",
    "        else:\n",
    "            fuel=(chosen-i)\n",
    "            fuel=fuel*(fuel+1)/2\n",
    "            #print('fuel',fuel)    \n",
    "        sum_fuel+=fuel\n",
    "        #print('sum_fuel',sum_fuel)\n",
    "    total_fuel.append(sum_fuel)\n",
    "    #print('total_fuel', total_fuel)\n",
    "print(min(total_fuel))"
   ]
  },
  {
   "cell_type": "code",
   "execution_count": null,
   "metadata": {},
   "outputs": [],
   "source": []
  }
 ],
 "metadata": {
  "kernelspec": {
   "display_name": "Python 3",
   "language": "python",
   "name": "python3"
  },
  "language_info": {
   "codemirror_mode": {
    "name": "ipython",
    "version": 3
   },
   "file_extension": ".py",
   "mimetype": "text/x-python",
   "name": "python",
   "nbconvert_exporter": "python",
   "pygments_lexer": "ipython3",
   "version": "3.9.0"
  }
 },
 "nbformat": 4,
 "nbformat_minor": 4
}
