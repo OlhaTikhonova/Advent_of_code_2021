{
 "cells": [
  {
   "cell_type": "markdown",
   "metadata": {},
   "source": [
    "--- Day 2: Dive! ---\n",
    "Now, you need to figure out how to pilot this thing.\n",
    "\n",
    "It seems like the submarine can take a series of commands like forward 1, down 2, or up 3:\n",
    "\n",
    "forward X increases the horizontal position by X units.\n",
    "down X increases the depth by X units.\n",
    "up X decreases the depth by X units.\n",
    "Note that since you're on a submarine, down and up affect your depth, and so they have the opposite result of what you might expect.\n",
    "\n",
    "The submarine seems to already have a planned course (your puzzle input). You should probably figure out where it's going. For example:\n",
    "\n",
    "forward 5\n",
    "down 5\n",
    "forward 8\n",
    "up 3\n",
    "down 8\n",
    "forward 2\n",
    "Your horizontal position and depth both start at 0. The steps above would then modify them as follows:\n",
    "\n",
    "forward 5 adds 5 to your horizontal position, a total of 5.\n",
    "down 5 adds 5 to your depth, resulting in a value of 5.\n",
    "forward 8 adds 8 to your horizontal position, a total of 13.\n",
    "up 3 decreases your depth by 3, resulting in a value of 2.\n",
    "down 8 adds 8 to your depth, resulting in a value of 10.\n",
    "forward 2 adds 2 to your horizontal position, a total of 15.\n",
    "After following these instructions, you would have a horizontal position of 15 and a depth of 10. (Multiplying these together produces 150.)\n",
    "\n",
    "Calculate the horizontal position and depth you would have after following the planned course. What do you get if you multiply your final horizontal position by your final depth?\n",
    "\n",
    "Your puzzle answer was 2027977.\n",
    "\n",
    "--- Part Two ---\n",
    "Based on your calculations, the planned course doesn't seem to make any sense. You find the submarine manual and discover that the process is actually slightly more complicated.\n",
    "\n",
    "In addition to horizontal position and depth, you'll also need to track a third value, aim, which also starts at 0. The commands also mean something entirely different than you first thought:\n",
    "\n",
    "down X increases your aim by X units.\n",
    "up X decreases your aim by X units.\n",
    "forward X does two things:\n",
    "It increases your horizontal position by X units.\n",
    "It increases your depth by your aim multiplied by X.\n",
    "Again note that since you're on a submarine, down and up do the opposite of what you might expect: \"down\" means aiming in the positive direction.\n",
    "\n",
    "Now, the above example does something different:\n",
    "\n",
    "forward 5 adds 5 to your horizontal position, a total of 5. Because your aim is 0, your depth does not change.\n",
    "down 5 adds 5 to your aim, resulting in a value of 5.\n",
    "forward 8 adds 8 to your horizontal position, a total of 13. Because your aim is 5, your depth increases by 8*5=40.\n",
    "up 3 decreases your aim by 3, resulting in a value of 2.\n",
    "down 8 adds 8 to your aim, resulting in a value of 10.\n",
    "forward 2 adds 2 to your horizontal position, a total of 15. Because your aim is 10, your depth increases by 2*10=20 to a total of 60.\n",
    "After following these new instructions, you would have a horizontal position of 15 and a depth of 60. (Multiplying these produces 900.)\n",
    "\n",
    "Using this new interpretation of the commands, calculate the horizontal position and depth you would have after following the planned course. What do you get if you multiply your final horizontal position by your final depth?"
   ]
  },
  {
   "cell_type": "code",
   "execution_count": 40,
   "metadata": {},
   "outputs": [],
   "source": [
    "#Part1\n",
    "input_data=open('input_D2.txt','r')\n",
    "input_move=input_data.read().strip().split('\\n')\n",
    "input_data.close()\n",
    "#print(input_move)\n",
    "move_list=[]\n",
    "for i in input_move:\n",
    "    if i.startswith(\"f\"):\n",
    "        direction=i[0:7]\n",
    "        #print(direction)\n",
    "        value=int(i[8:])\n",
    "        #print(value)\n",
    "    elif i.startswith(\"d\"):\n",
    "        direction=i[0:4]\n",
    "        #print(direction)\n",
    "        value=int(i[5:])\n",
    "    elif i.startswith(\"u\"):\n",
    "        direction=i[0:2]\n",
    "        #print(direction)\n",
    "        value=int(i[3:])\n",
    "    move_list.append([direction,value])\n",
    "#print(move_list)"
   ]
  },
  {
   "cell_type": "code",
   "execution_count": 38,
   "metadata": {},
   "outputs": [
    {
     "name": "stdout",
     "output_type": "stream",
     "text": [
      "2027977 result\n"
     ]
    }
   ],
   "source": [
    "#Part1\n",
    "def move(x,y,value,direction_name):\n",
    "    \n",
    "    if direction_name =='forward':\n",
    "        (x,y)=(x+value,y)\n",
    "        #print((x,y))\n",
    "    elif direction_name =='down':\n",
    "        (x,y)=(x,y+value)\n",
    "        #print((x,y))\n",
    "    elif direction_name =='up':\n",
    "        (x,y)=(x,y-value,)\n",
    "        #print((x,y))\n",
    "                   \n",
    "    return (x,y)\n",
    "\n",
    "\n",
    "(x,y)=(0,0)\n",
    "\n",
    "for m in move_list:\n",
    "    direction_name=m[0]\n",
    "    #print(direction_name)\n",
    "    value=m[1]\n",
    "    #print(value)\n",
    "    (x,y)=move(x,y, value, direction_name)\n",
    "    \n",
    "\n",
    "result=x*y\n",
    "print(result, \"result\")"
   ]
  },
  {
   "cell_type": "code",
   "execution_count": 37,
   "metadata": {},
   "outputs": [
    {
     "name": "stdout",
     "output_type": "stream",
     "text": [
      "1903644897 result\n"
     ]
    }
   ],
   "source": [
    "#Part2\n",
    "def move(x,y,aim,value,direction_name):\n",
    "    \n",
    "    if direction_name =='forward':\n",
    "        (x,y)=(x+value,(value*aim)+y)\n",
    "        #print((x,y))\n",
    "    elif direction_name =='down':\n",
    "        aim=aim+value\n",
    "        #print((x,y))\n",
    "    elif direction_name =='up':\n",
    "        aim=aim-value\n",
    "        #print((x,y))\n",
    "                   \n",
    "    return (x,y,aim)\n",
    "\n",
    "\n",
    "(x,y,aim)=(0,0,0)\n",
    "\n",
    "for m in move_list:\n",
    "    direction_name=m[0]\n",
    "    #print(direction_name)\n",
    "    value=m[1]\n",
    "    #print(value)\n",
    "    (x,y,aim)=move(x,y,aim, value, direction_name)\n",
    "    \n",
    "\n",
    "result=x*y\n",
    "print(result, \"result\")"
   ]
  },
  {
   "cell_type": "code",
   "execution_count": null,
   "metadata": {},
   "outputs": [],
   "source": []
  }
 ],
 "metadata": {
  "kernelspec": {
   "display_name": "Python 3",
   "language": "python",
   "name": "python3"
  },
  "language_info": {
   "codemirror_mode": {
    "name": "ipython",
    "version": 3
   },
   "file_extension": ".py",
   "mimetype": "text/x-python",
   "name": "python",
   "nbconvert_exporter": "python",
   "pygments_lexer": "ipython3",
   "version": "3.9.0"
  }
 },
 "nbformat": 4,
 "nbformat_minor": 4
}
