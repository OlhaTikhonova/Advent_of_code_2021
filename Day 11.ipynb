{
 "cells": [
  {
   "cell_type": "code",
   "execution_count": 41,
   "metadata": {},
   "outputs": [
    {
     "name": "stdout",
     "output_type": "stream",
     "text": [
      "1591\n"
     ]
    }
   ],
   "source": [
    "#Part1\n",
    "\n",
    "with open('input_D11.txt','r') as file:\n",
    "    (x,y)=(0,0)\n",
    "    canvas= dict()\n",
    "    file_content=file.readline().strip()\n",
    "    while file_content:\n",
    "        #print(file_content)\n",
    "        for num in file_content:\n",
    "            canvas[(x,y)] = int(num)\n",
    "            \n",
    "            x+=1\n",
    "        y+=1\n",
    "        x=0\n",
    "        file_content=file.readline().strip()\n",
    "#print(canvas)\n",
    "\n",
    "def neighbours(p):\n",
    "    (x,y) = p\n",
    "    matrix=[-1,0,1]\n",
    "    return [((x+dx),(y+dy))\n",
    "           for dx in matrix \n",
    "           for dy in matrix\n",
    "           if not(dx ==0 and dy ==0)]\n",
    "#print(neighbours((p)))\n",
    "\n",
    "def print_canvas(canvas):\n",
    "    for y in range(10):\n",
    "        for x in range(10):\n",
    "            if (x,y) in canvas:\n",
    "                print(canvas[(x,y)], end='')\n",
    "        print()\n",
    "\n",
    "def new_layout(canvas,count_flashes):\n",
    "    canvas_new= canvas\n",
    "    \n",
    "    \n",
    "     #1step increase by one\n",
    "    for key in canvas:\n",
    "        canvas_new[key]+=1\n",
    "    #print_canvas(canvas_new)\n",
    "    \n",
    "    updated = True\n",
    "    while updated:\n",
    "        updated = False\n",
    "        for key, value in canvas_new.items():\n",
    "            if value>9:\n",
    "                canvas_new[key]=0\n",
    "                updated = True\n",
    "                count_flashes+=1\n",
    "                for i in neighbours(key):\n",
    "                    if i in canvas_new and canvas_new[i]!=0:\n",
    "                        canvas_new[i]+=1\n",
    "\n",
    "\n",
    "    return canvas_new, count_flashes\n",
    "\n",
    "count_flashes=0\n",
    "for cycle in range(100):\n",
    "    (canvas,count_flashes)=new_layout(canvas,count_flashes)\n",
    "    #print_canvas(canvas)\n",
    "print(count_flashes)  "
   ]
  },
  {
   "cell_type": "code",
   "execution_count": 42,
   "metadata": {},
   "outputs": [
    {
     "data": {
      "text/plain": [
       "100"
      ]
     },
     "execution_count": 42,
     "metadata": {},
     "output_type": "execute_result"
    }
   ],
   "source": [
    "len(canvas)"
   ]
  },
  {
   "cell_type": "code",
   "execution_count": 46,
   "metadata": {},
   "outputs": [
    {
     "name": "stdout",
     "output_type": "stream",
     "text": [
      "314\n"
     ]
    }
   ],
   "source": [
    "#Part1\n",
    "\n",
    "with open('input_D11.txt','r') as file:\n",
    "    (x,y)=(0,0)\n",
    "    canvas= dict()\n",
    "    file_content=file.readline().strip()\n",
    "    while file_content:\n",
    "        #print(file_content)\n",
    "        for num in file_content:\n",
    "            canvas[(x,y)] = int(num)\n",
    "            \n",
    "            x+=1\n",
    "        y+=1\n",
    "        x=0\n",
    "        file_content=file.readline().strip()\n",
    "#print(canvas)\n",
    "\n",
    "def neighbours(p):\n",
    "    (x,y) = p\n",
    "    matrix=[-1,0,1]\n",
    "    return [((x+dx),(y+dy))\n",
    "           for dx in matrix \n",
    "           for dy in matrix\n",
    "           if not(dx ==0 and dy ==0)]\n",
    "#print(neighbours((p)))\n",
    "\n",
    "def print_canvas(canvas):\n",
    "    for y in range(10):\n",
    "        for x in range(10):\n",
    "            if (x,y) in canvas:\n",
    "                print(canvas[(x,y)], end='')\n",
    "        print()\n",
    "\n",
    "def new_layout(canvas,count_flashes):\n",
    "    canvas_new= canvas\n",
    "    \n",
    "    \n",
    "     #1step increase by one\n",
    "    for key in canvas:\n",
    "        canvas_new[key]+=1\n",
    "    #print_canvas(canvas_new)\n",
    "    \n",
    "    updated = True\n",
    "    while updated:\n",
    "        updated = False\n",
    "        for key, value in canvas_new.items():\n",
    "            if value>9:\n",
    "                canvas_new[key]=0\n",
    "                updated = True\n",
    "                count_flashes+=1\n",
    "                for i in neighbours(key):\n",
    "                    if i in canvas_new and canvas_new[i]!=0:\n",
    "                        canvas_new[i]+=1\n",
    "\n",
    "\n",
    "    return canvas_new, count_flashes\n",
    "\n",
    "count_flashes=0\n",
    "\n",
    "step=0\n",
    "while count!=100:\n",
    "    (canvas,count_flashes)=new_layout(canvas,count_flashes)\n",
    "    step+=1\n",
    "    count=0\n",
    "    for keys, value in canvas.items():\n",
    "        if value==0:\n",
    "            count+=1\n",
    "    \n",
    "print(step)\n",
    "            \n",
    "    #print_canvas(canvas)\n",
    " "
   ]
  },
  {
   "cell_type": "code",
   "execution_count": 12,
   "metadata": {},
   "outputs": [
    {
     "name": "stdout",
     "output_type": "stream",
     "text": [
      "[(4, 4), (4, 5), (4, 6), (5, 4), (5, 6), (6, 4), (6, 5), (6, 6)]\n"
     ]
    }
   ],
   "source": [
    "def neighbours(p):\n",
    "    (x,y) = p\n",
    "    matrix=[-1,0,1]\n",
    "    return [((x+dx),(y+dy))\n",
    "           for dx in matrix \n",
    "           for dy in matrix\n",
    "           if not(dx ==0 and dy ==0)]\n",
    "print(neighbours((5,5)))"
   ]
  },
  {
   "cell_type": "code",
   "execution_count": null,
   "metadata": {},
   "outputs": [],
   "source": []
  }
 ],
 "metadata": {
  "kernelspec": {
   "display_name": "Python 3",
   "language": "python",
   "name": "python3"
  },
  "language_info": {
   "codemirror_mode": {
    "name": "ipython",
    "version": 3
   },
   "file_extension": ".py",
   "mimetype": "text/x-python",
   "name": "python",
   "nbconvert_exporter": "python",
   "pygments_lexer": "ipython3",
   "version": "3.9.0"
  }
 },
 "nbformat": 4,
 "nbformat_minor": 4
}
