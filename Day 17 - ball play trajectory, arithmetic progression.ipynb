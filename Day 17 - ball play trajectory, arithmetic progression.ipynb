{
 "cells": [
  {
   "cell_type": "code",
   "execution_count": 78,
   "metadata": {},
   "outputs": [
    {
     "name": "stdout",
     "output_type": "stream",
     "text": [
      "7626.0\n"
     ]
    }
   ],
   "source": [
    "#Part1 -Arithmetic progression -the highest point of ball(probe) up\n",
    "#target area: x=211..232, y=-124..-69\n",
    "sum_ar=123*(123+1)/2\n",
    "print(sum_ar)"
   ]
  },
  {
   "cell_type": "code",
   "execution_count": 84,
   "metadata": {},
   "outputs": [
    {
     "name": "stdout",
     "output_type": "stream",
     "text": [
      "[(20, -10), (20, -9), (20, -8), (20, -7), (20, -6), (20, -5), (21, -10), (21, -9), (21, -8), (21, -7), (21, -6), (21, -5), (22, -10), (22, -9), (22, -8), (22, -7), (22, -6), (22, -5), (23, -10), (23, -9), (23, -8), (23, -7), (23, -6), (23, -5), (24, -10), (24, -9), (24, -8), (24, -7), (24, -6), (24, -5), (25, -10), (25, -9), (25, -8), (25, -7), (25, -6), (25, -5), (26, -10), (26, -9), (26, -8), (26, -7), (26, -6), (26, -5), (27, -10), (27, -9), (27, -8), (27, -7), (27, -6), (27, -5), (28, -10), (28, -9), (28, -8), (28, -7), (28, -6), (28, -5), (29, -10), (29, -9), (29, -8), (29, -7), (29, -6), (29, -5), (30, -10), (30, -9), (30, -8), (30, -7), (30, -6), (30, -5)]\n"
     ]
    }
   ],
   "source": [
    "#target area: x=211..232, y=-124..-69\n",
    "#TEST: target area: x=20..30, y=-10..-5\n",
    "target_area=[]\n",
    "canvas={}\n",
    "start=(0,0)\n",
    "xmin =20\n",
    "xmax =30\n",
    "ymax=-10\n",
    "ymin=-5\n",
    "\n",
    "for x in range(xmin,xmax+1):\n",
    "    for y in range(ymax,ymin+1):\n",
    "        target_area.append((x,y))\n",
    "print(target_area)"
   ]
  },
  {
   "cell_type": "code",
   "execution_count": 85,
   "metadata": {},
   "outputs": [],
   "source": [
    "possible_V=[]\n",
    "for Vx in range(1,xmax+1):\n",
    "    for Vy in range(ymax, -ymax):\n",
    "        possible_V.append((Vx,Vy))\n",
    "#print(possible_V)\n",
    "velocity_good=set()\n",
    "for vel in possible_V:\n",
    "    x=0\n",
    "    y=0\n",
    "    Vx=vel[0]\n",
    "    Vy=vel[1]\n",
    "       \n",
    "    while x<xmax and y>-10:\n",
    "       # print(x,y,'step before')\n",
    "        x=Vx+x\n",
    "        y=Vy+y\n",
    "       # print('Vx:', Vx, \"Vy:\", Vy, 'x,y:', (x,y))\n",
    "        if Vx>0:\n",
    "            Vx-=1\n",
    "        elif Vx<0:\n",
    "            Vx+=1\n",
    "        elif Vx==0:\n",
    "            Vx=0\n",
    "        Vy-=1\n",
    "        if (x,y) in target_area:\n",
    "            #print('IN TARGET: ',x,y)\n",
    "            velocity_good.add((vel[0],vel[1]))\n",
    "            break\n",
    "        \n",
    "    "
   ]
  },
  {
   "cell_type": "code",
   "execution_count": 81,
   "metadata": {},
   "outputs": [
    {
     "name": "stdout",
     "output_type": "stream",
     "text": [
      "112\n"
     ]
    }
   ],
   "source": [
    "print(len(velocity_good))"
   ]
  },
  {
   "cell_type": "code",
   "execution_count": 82,
   "metadata": {},
   "outputs": [
    {
     "name": "stdout",
     "output_type": "stream",
     "text": [
      "{(27, -5), (28, -6), (30, -9), (8, 0), (11, -4), (25, -5), (15, -4), (29, -5), (20, -8), (21, -9), (6, 2), (7, 1), (12, -3), (30, -7), (11, -2), (11, -1), (15, -2), (21, -7), (23, -10), (6, 4), (7, 3), (27, -10), (30, -5), (25, -10), (24, -6), (26, -9), (29, -10), (21, -5), (23, -8), (6, 6), (7, 5), (27, -8), (28, -9), (13, -4), (26, -7), (29, -8), (7, -1), (7, 7), (27, -6), (28, -7), (30, -10), (9, -2), (9, -1), (13, -2), (26, -5), (21, -10), (6, 1), (7, 0), (7, 9), (20, -6), (22, -9), (14, -4), (28, -5), (30, -8), (9, 0), (11, -3), (24, -9), (15, -3), (7, 2), (22, -7), (14, -2), (24, -7), (26, -10), (25, -8), (7, 4), (22, -5), (23, -6), (6, 8), (28, -10), (24, -5), (26, -8), (25, -6), (29, -6), (20, -9), (12, -4), (28, -8), (8, 1), (10, -2), (10, -1), (13, -3), (26, -6), (20, -7), (22, -10), (21, -8), (6, 3), (12, -2), (30, -6), (24, -10), (20, -5), (22, -8), (21, -6), (23, -9), (6, 5), (14, -3), (27, -9), (24, -8), (25, -9), (29, -9), (22, -6), (23, -7), (6, 7), (7, 6), (27, -7), (8, -2), (8, -1), (25, -7), (29, -7), (20, -10), (6, 0), (23, -5), (6, 9), (7, 8)}\n"
     ]
    }
   ],
   "source": [
    "print((velocity_good))"
   ]
  },
  {
   "cell_type": "code",
   "execution_count": 83,
   "metadata": {},
   "outputs": [
    {
     "name": "stdout",
     "output_type": "stream",
     "text": [
      "set()\n",
      "0\n",
      "set()\n",
      "0\n"
     ]
    }
   ],
   "source": [
    "all_v={(23,-10),(25,-9),(27,-5),(29,-6),(22,-6),(21,-7),(9,0),(27,-7),(24,-5),(25,-7),(26,-6),(25,-5),(6,8),(11,-2),(20,-5),(29,-10),(6,3),(28,-7),(8,0),(30,-6),(29,-8),(20,-10),(6,7),(6,4),(6,1),(14,-4),(21,-6),(26,-10),(7,-1),(7,7),(8,-1), (21,-9),(6,2), (20,-7),(30,-10),(14,-3),(20,-8),(13,-2),(7,3),(28,-8),(29,-9),(15,-3),(22,-5),(26,-8),(25,-8),(25,-6),(15,-4),(9,-2),(15,-2),(12,-2),(28,-9),(12,-3),(24,-6),(23,-7),(25,-10),(7,8),(11,-3),(26,-7),(7,1),(23,-9),(6,0),(22,-10),(27,-6),(8,1),(22,-8),(13,-4),(7,6),(28,-6),(11,-4),(12,-4),(26,-9),(7,4),(24,-10),(23,-8),(30,-8),(7,0),(9,-1),(10,-1),(26,-5),(22,-9),(6,5),(7,5),(23,-6),(28,-10),(10,-2),(11,-1),(20,-9),(14,-2),(29,-7),(13,-3),(23,-5),(24,-8),(27,-9),(30,-7),(28,-5),(21,-10),(7,9),(6,6),(21,-5),(27,-10),(7,2),(30,-9),(21,-8),(22,-7),(24,-9),(20,-6),(6,9),(29,-5),(8,-2),(27,-8),(30,-5),(24,-7)}\n",
    "print((all_v-velocity_good))\n",
    "print(len(all_v-velocity_good))\n",
    "print(velocity_good-all_v)\n",
    "print(len(velocity_good-all_v))"
   ]
  },
  {
   "cell_type": "code",
   "execution_count": 76,
   "metadata": {},
   "outputs": [
    {
     "name": "stdout",
     "output_type": "stream",
     "text": [
      "2032\n"
     ]
    }
   ],
   "source": [
    "#My part 2\n",
    "#target area: x=211..232, y=-124..-69\n",
    "#TEST: target area: x=20..30, y=-10..-5\n",
    "target_area=[]\n",
    "canvas={}\n",
    "start=(0,0)\n",
    "xmin =211\n",
    "xmax =232\n",
    "ymax=-124\n",
    "ymin=-69\n",
    "\n",
    "for x in range(xmin,xmax+1):\n",
    "    for y in range(ymax,ymin+1):\n",
    "        target_area.append((x,y))\n",
    "#print(target_area)\n",
    "possible_V=[]\n",
    "for Vx in range(1,xmax+1):\n",
    "    for Vy in range(ymax, -ymax):\n",
    "        possible_V.append((Vx,Vy))\n",
    "#print(possible_V)\n",
    "velocity_good=set()\n",
    "for vel in possible_V:\n",
    "    x=0\n",
    "    y=0\n",
    "    Vx=vel[0]\n",
    "    Vy=vel[1]\n",
    "       \n",
    "    while x<xmax and y>ymax:\n",
    "        #print(x,y,'step before')\n",
    "        x=Vx+x\n",
    "        y=Vy+y\n",
    "        #print('Vx:', Vx, \"Vy:\", Vy, 'x,y:', (x,y))\n",
    "        if Vx>0:\n",
    "            Vx-=1\n",
    "        elif Vx<0:\n",
    "            Vx+=1\n",
    "        elif Vx==0:\n",
    "            Vx=0\n",
    "        Vy-=1\n",
    "        if (x,y) in target_area:\n",
    "            #print('IN TARGET: ',x,y)\n",
    "            velocity_good.add((vel[0],vel[1]))\n",
    "            break\n",
    "print(len(velocity_good))        "
   ]
  },
  {
   "cell_type": "code",
   "execution_count": null,
   "metadata": {},
   "outputs": [],
   "source": []
  }
 ],
 "metadata": {
  "kernelspec": {
   "display_name": "Python 3",
   "language": "python",
   "name": "python3"
  },
  "language_info": {
   "codemirror_mode": {
    "name": "ipython",
    "version": 3
   },
   "file_extension": ".py",
   "mimetype": "text/x-python",
   "name": "python",
   "nbconvert_exporter": "python",
   "pygments_lexer": "ipython3",
   "version": "3.9.0"
  }
 },
 "nbformat": 4,
 "nbformat_minor": 4
}
