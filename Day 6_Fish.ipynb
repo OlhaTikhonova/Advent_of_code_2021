{
 "cells": [
  {
   "cell_type": "code",
   "execution_count": 1,
   "metadata": {},
   "outputs": [
    {
     "name": "stdout",
     "output_type": "stream",
     "text": [
      "63470\n"
     ]
    }
   ],
   "source": [
    "#Part1 \n",
    "input_data=open('input_D6.txt','r')\n",
    "input_num=input_data.read().strip()\n",
    "input_data.close()\n",
    "input_list=[int(num) for num in input_num.split(',')]\n",
    "#print(input_list)\n",
    "\n",
    "count=0\n",
    "new_list_internal_num =input_list \n",
    "while count<60:\n",
    "    input_list=new_list_internal_num\n",
    "    new_list_internal_num=[]\n",
    "    for i in input_list:\n",
    "        if i==0:\n",
    "            internal_num=6\n",
    "            new_list_internal_num.append(internal_num)\n",
    "            new_list_internal_num.append(8)\n",
    "        else:\n",
    "            internal_num=i-1\n",
    "        #print(internal_num)\n",
    "            new_list_internal_num.append(internal_num)\n",
    "    #print(new_list_internal_num)\n",
    "    count+=1\n",
    "print(len(new_list_internal_num))"
   ]
  },
  {
   "cell_type": "code",
   "execution_count": null,
   "metadata": {},
   "outputs": [],
   "source": [
    "#Part1 _second way\n",
    "input_data=open('input_D6.txt','r')\n",
    "input_num=input_data.read().strip()\n",
    "input_data.close()\n",
    "input_list=[int(num) for num in input_num.split(',')]\n",
    "print(input_list)\n",
    "unique_cycle=set(input_list)\n",
    "print(unique_cycle)\n",
    "\n",
    "def one_family(internal_num):\n",
    "    new_list_internal_num = [internal_num]\n",
    "    count=0\n",
    "    while count<80:\n",
    "        #print(new_list_internal_num)\n",
    "        input_list=new_list_internal_num\n",
    "        #print(input_list)\n",
    "        new_list_internal_num=[]\n",
    "        for i in input_list:\n",
    "            if i==0:\n",
    "                internal_num=6\n",
    "                new_list_internal_num.append(internal_num)\n",
    "                new_list_internal_num.append(8)\n",
    "            else:\n",
    "                internal_num=i-1\n",
    "                new_list_internal_num.append(internal_num)\n",
    "        count+=1\n",
    "    family_size = len(new_list_internal_num)\n",
    "    return (family_size,internal_num)\n",
    "\n",
    "#size_of_each_family= one_family (1) \n",
    "#print(size_of_each_family)\n",
    "size_of_each_family=[]\n",
    "for internal_num in unique_cycle:\n",
    "    size_of_each_family.append(one_family (internal_num)) "
   ]
  },
  {
   "cell_type": "code",
   "execution_count": 6,
   "metadata": {},
   "outputs": [
    {
     "name": "stdout",
     "output_type": "stream",
     "text": [
      "1644874076764\n"
     ]
    }
   ],
   "source": [
    "#Part2 \n",
    "import sys\n",
    "from collections import defaultdict\n",
    "input_data=open('input_D6.txt','r')\n",
    "input_num=input_data.read().strip()\n",
    "input_data.close()\n",
    "input_list=[int(num) for num in input_num.split(',')]\n",
    "#print(input_list)\n",
    "\n",
    "#How many fishes with similar state we have in input\n",
    "fishes=defaultdict(int)\n",
    "for n in input_list:\n",
    "    if n not in fishes:\n",
    "        fishes[n]=0\n",
    "        #print(fishes)\n",
    "    fishes[n]+=1\n",
    "    #print('fishes',fishes)\n",
    "\n",
    "    \n",
    "def solves(S, days):\n",
    "    fishes=S\n",
    "    for day in range (days):\n",
    "        Families=defaultdict(int)\n",
    "        for internal_num, amount in fishes.items():\n",
    "            if internal_num==0:\n",
    "                Families[6]+=amount\n",
    "                Families[8]+=amount\n",
    "            else:\n",
    "                Families[internal_num-1]+=amount\n",
    "        fishes=Families\n",
    "    values = fishes.values()\n",
    "    total = sum(values)\n",
    "    return total\n",
    "print(solves(fishes,256))                    "
   ]
  },
  {
   "cell_type": "code",
   "execution_count": null,
   "metadata": {},
   "outputs": [],
   "source": [
    "1644874076764"
   ]
  }
 ],
 "metadata": {
  "kernelspec": {
   "display_name": "Python 3",
   "language": "python",
   "name": "python3"
  },
  "language_info": {
   "codemirror_mode": {
    "name": "ipython",
    "version": 3
   },
   "file_extension": ".py",
   "mimetype": "text/x-python",
   "name": "python",
   "nbconvert_exporter": "python",
   "pygments_lexer": "ipython3",
   "version": "3.9.0"
  }
 },
 "nbformat": 4,
 "nbformat_minor": 4
}
