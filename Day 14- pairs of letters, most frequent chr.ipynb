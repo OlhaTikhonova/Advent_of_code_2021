{
 "cells": [
  {
   "cell_type": "code",
   "execution_count": 29,
   "metadata": {},
   "outputs": [
    {
     "name": "stdout",
     "output_type": "stream",
     "text": [
      "['CH -> B', 'HH -> N', 'CB -> H', 'NH -> C', 'HB -> C', 'HC -> B', 'HN -> C', 'NN -> C', 'BH -> H', 'NC -> B', 'NB -> B', 'BN -> B', 'BB -> N', 'BC -> B', 'CC -> N', 'CN -> C']\n",
      "defaultdict(<class 'list'>, {('C', 'H'): ['B'], ('H', 'H'): ['N'], ('C', 'B'): ['H'], ('N', 'H'): ['C'], ('H', 'B'): ['C'], ('H', 'C'): ['B'], ('H', 'N'): ['C'], ('N', 'N'): ['C'], ('B', 'H'): ['H'], ('N', 'C'): ['B'], ('N', 'B'): ['B'], ('B', 'N'): ['B'], ('B', 'B'): ['N'], ('B', 'C'): ['B'], ('C', 'C'): ['N'], ('C', 'N'): ['C']})\n",
      "3073\n",
      "1588\n"
     ]
    }
   ],
   "source": [
    "#Part1_Test\n",
    "from collections import defaultdict\n",
    "import itertools\n",
    "from collections import Counter\n",
    "\n",
    "initial='NNCB'\n",
    "input_data1=open('input_D14_test.txt','r')\n",
    "input_letters=input_data1.read().strip().split('\\n')\n",
    "input_data1.close()\n",
    "print(input_letters)\n",
    "\n",
    "\n",
    "tree = defaultdict(list)\n",
    "for subs in input_letters:\n",
    "    [first_part,second_part]= subs.split(' -> ')\n",
    "    tree[(first_part[0],first_part[1])].append(second_part)\n",
    "   \n",
    "print(tree)\n",
    "\n",
    "def pairwise(iterable):\n",
    "    # pairwise('ABCDEFG') --> AB BC CD DE EF FG\n",
    "    a, b = itertools.tee(iterable)\n",
    "    next(b, None)\n",
    "    return zip(a, b)\n",
    "step=0\n",
    "for step in range(10):\n",
    "    step+=1\n",
    "    new_initial=initial\n",
    "    initial=new_initial[0]\n",
    "    for pair in pairwise(new_initial):\n",
    "        initial+=tree[pair][0]+pair[1]\n",
    "print(len(initial))\n",
    "\n",
    "# using collections.Counter() + max() to get \n",
    "# Maximum frequency character in String\n",
    "res = Counter(initial)\n",
    "most_common = res[(max(res, key = res.get))]\n",
    "least_common= res[min(res, key=res.get)]\n",
    "result=most_common-least_common\n",
    "print(result)\n"
   ]
  },
  {
   "cell_type": "code",
   "execution_count": 12,
   "metadata": {},
   "outputs": [
    {
     "name": "stdout",
     "output_type": "stream",
     "text": [
      "(('N', 'N'), ('N', 'C'), ('C', 'B'))\n"
     ]
    }
   ],
   "source": [
    "import itertools\n",
    "def pairwise(iterable):\n",
    "    # pairwise('ABCDEFG') --> AB BC CD DE EF FG\n",
    "    a, b = itertools.tee(iterable)\n",
    "    next(b, None)\n",
    "    return zip(a, b)\n",
    "print(tuple(pairwise('NNCB')))"
   ]
  },
  {
   "cell_type": "code",
   "execution_count": 32,
   "metadata": {},
   "outputs": [
    {
     "name": "stdout",
     "output_type": "stream",
     "text": [
      "19457\n",
      "3247\n"
     ]
    }
   ],
   "source": [
    "#Part1_Mine\n",
    "from collections import defaultdict\n",
    "import itertools\n",
    "from collections import Counter\n",
    "\n",
    "initial='CKFFSCFSCBCKBPBCSPKP'\n",
    "\n",
    "input_data1=open('input_D14.txt','r')\n",
    "input_letters=input_data1.read().strip().split('\\n')\n",
    "input_data1.close()\n",
    "#print(input_letters)\n",
    "\n",
    "\n",
    "tree = defaultdict(list)\n",
    "for subs in input_letters:\n",
    "    [first_part,second_part]= subs.split(' -> ')\n",
    "    tree[(first_part[0],first_part[1])].append(second_part)\n",
    "   \n",
    "#print(tree)\n",
    "\n",
    "def pairwise(iterable):\n",
    "    # pairwise('ABCDEFG') --> AB BC CD DE EF FG\n",
    "    a, b = itertools.tee(iterable)\n",
    "    next(b, None)\n",
    "    return zip(a, b)\n",
    "step=0\n",
    "for step in range(10):\n",
    "    step+=1\n",
    "    new_initial=initial\n",
    "    initial=new_initial[0]\n",
    "    for pair in pairwise(new_initial):\n",
    "        initial+=tree[pair][0]+pair[1]\n",
    "print(len(initial))\n",
    "\n",
    "# using collections.Counter() + max() to get \n",
    "# Maximum frequency character in String\n",
    "res = Counter(initial)\n",
    "most_common = res[(max(res, key = res.get))]\n",
    "least_common= res[min(res, key=res.get)]\n",
    "result=most_common-least_common\n",
    "print(result)\n"
   ]
  },
  {
   "cell_type": "code",
   "execution_count": null,
   "metadata": {},
   "outputs": [],
   "source": []
  }
 ],
 "metadata": {
  "kernelspec": {
   "display_name": "Python 3",
   "language": "python",
   "name": "python3"
  },
  "language_info": {
   "codemirror_mode": {
    "name": "ipython",
    "version": 3
   },
   "file_extension": ".py",
   "mimetype": "text/x-python",
   "name": "python",
   "nbconvert_exporter": "python",
   "pygments_lexer": "ipython3",
   "version": "3.9.0"
  }
 },
 "nbformat": 4,
 "nbformat_minor": 4
}
