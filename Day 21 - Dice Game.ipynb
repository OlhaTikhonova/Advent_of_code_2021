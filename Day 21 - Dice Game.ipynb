{
 "cells": [
  {
   "cell_type": "code",
   "execution_count": 41,
   "id": "92f10cb3",
   "metadata": {},
   "outputs": [
    {
     "name": "stdout",
     "output_type": "stream",
     "text": [
      "503478\n"
     ]
    }
   ],
   "source": [
    "#Part1\n",
    "#Player1_st=4-1\n",
    "#Player2_st=8-1\n",
    "Player1_st=8-1\n",
    "Player2_st=6-1\n",
    "\n",
    "def rolling_last(player_pos, roll_last, total_score):\n",
    "    roll_last1=roll_last+1\n",
    "    if roll_last1>100:\n",
    "        roll_last1=roll_last1-100\n",
    "    #print('roll_last1',roll_last1)\n",
    "    roll_last2=roll_last1+1\n",
    "    if roll_last2>100:\n",
    "        roll_last2=roll_last2-100\n",
    "    #print('roll_last2',roll_last2)\n",
    "    roll_last3=roll_last2+1\n",
    "    if roll_last3>100:\n",
    "        roll_last3=roll_last3-100\n",
    "    #print('roll_last3:',roll_last3)\n",
    "    player_pos+=roll_last1+roll_last2+roll_last3\n",
    "    \n",
    "    while player_pos >=10:\n",
    "        player_pos=player_pos-10\n",
    "    total_score = total_score+ player_pos+1\n",
    "    \n",
    "    return(player_pos, roll_last3,total_score )\n",
    "    \n",
    "  \n",
    "\n",
    "die=0\n",
    "total_score1 = 0\n",
    "total_score2 = 0\n",
    "game=True    \n",
    "roll_last=0\n",
    "while game==True:\n",
    "    (Player1_st,  roll_last, total_score1) =  rolling_last(Player1_st, roll_last, total_score1)\n",
    "    #print( 'Player_pos after roll for next step:', Player1_st, 'last roll:', roll_last, 'total_score of first player: ', total_score1)\n",
    "    die+=3\n",
    "    if total_score1>=1000:\n",
    "        res=total_score2*(die)\n",
    "        game=False\n",
    "    (Player2_st,  roll_last, total_score2) =  rolling_last(Player2_st, roll_last, total_score2)\n",
    "    #print(Player2_st, roll_last, total_score2)\n",
    "    die+=3\n",
    "    if total_score2>=1000:\n",
    "        res=total_score1*(die)\n",
    "        game=False\n",
    "\n",
    "print(res)\n",
    "    \n"
   ]
  },
  {
   "cell_type": "code",
   "execution_count": null,
   "id": "4d0ac83f",
   "metadata": {},
   "outputs": [],
   "source": []
  }
 ],
 "metadata": {
  "kernelspec": {
   "display_name": "Python 3 (ipykernel)",
   "language": "python",
   "name": "python3"
  },
  "language_info": {
   "codemirror_mode": {
    "name": "ipython",
    "version": 3
   },
   "file_extension": ".py",
   "mimetype": "text/x-python",
   "name": "python",
   "nbconvert_exporter": "python",
   "pygments_lexer": "ipython3",
   "version": "3.9.7"
  }
 },
 "nbformat": 4,
 "nbformat_minor": 5
}
