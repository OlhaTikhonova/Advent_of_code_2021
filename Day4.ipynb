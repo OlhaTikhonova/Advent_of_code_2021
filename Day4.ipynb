{
 "cells": [
  {
   "cell_type": "code",
   "execution_count": 6,
   "metadata": {},
   "outputs": [
    {
     "name": "stdout",
     "output_type": "stream",
     "text": [
      "[46, 79, 77, 45, 57, 34, 44, 13, 32, 88, 86, 82, 91, 97, 89, 1, 48, 31, 18, 10, 55, 74, 24, 11, 80, 78, 28, 37, 47, 17, 21, 61, 26, 85, 99, 96, 23, 70, 3, 54, 5, 41, 50, 63, 14, 64, 42, 36, 95, 52, 76, 68, 29, 9, 98, 35, 84, 83, 71, 49, 73, 58, 56, 66, 92, 30, 51, 20, 81, 69, 65, 15, 6, 16, 39, 43, 67, 7, 59, 40, 60, 4, 90, 72, 22, 0, 93, 94, 38, 53, 87, 27, 12, 2, 25, 19, 8, 62, 33, 75]\n"
     ]
    }
   ],
   "source": [
    "#Part1_test\n",
    "input_data1=open('input_D4_1.txt','r')\n",
    "input_numbers=input_data1.read().strip().split('\\n')\n",
    "input_data1.close()\n",
    "#print(input_numbers)\n",
    "\n",
    "for i in input_numbers:\n",
    "    list_numbers=[int(z) for z in i.split(',')]\n",
    "print(list_numbers)"
   ]
  },
  {
   "cell_type": "code",
   "execution_count": 7,
   "metadata": {},
   "outputs": [
    {
     "name": "stdout",
     "output_type": "stream",
     "text": [
      "22680\n"
     ]
    }
   ],
   "source": [
    "#part1\n",
    "input_data=open('input_D4_2.txt','r')\n",
    "input_num=input_data.read().strip().split('\\n')\n",
    "input_data.close()\n",
    "input_list=[num for num in input_num]\n",
    "input_list.insert(0,'')\n",
    "input_list.append('')\n",
    "#print(input_list)\n",
    "\n",
    "#Define boards\n",
    "boards_positions=[pos for pos, char in enumerate(input_list) if char == '']\n",
    "#print(boards_positions)\n",
    "\n",
    "boards_scores=[]\n",
    "\n",
    "for item in range (0,len(boards_positions)-1) :\n",
    "    \n",
    "    each_board=input_list[boards_positions[item]+1:boards_positions[item+1]]\n",
    "    #print(each_board)\n",
    "    count_steps=0\n",
    "    lines=[]\n",
    "    for line in each_board:\n",
    "        lines.append([int(z) for z in line.split()])\n",
    "    #print(lines)\n",
    "    flat_board = [item for sublist in lines for item in sublist]\n",
    "    #print(flat_board)\n",
    "    \n",
    "    coincidance_indexes=[]\n",
    "    board_score=[]\n",
    "    \n",
    "    for specified_num in list_numbers:\n",
    "        #print(specified_num)\n",
    "        count_steps+=1\n",
    "        if specified_num in flat_board:\n",
    "            coincidance_indexes.append(flat_board.index(specified_num))\n",
    "            \n",
    "        else:\n",
    "            continue\n",
    "       #print('coincidance',coincidance)\n",
    "        #print('coincidance',set(coincidance_indexes))\n",
    "        s = ''.join(str(i) for i in sorted(set(coincidance_indexes)))\n",
    "        #print('s',s)\n",
    "        if any(sublist in s for sublist in ('01234', '56789', '1011121314', '1516171819', '2021222324','05101520','16111621','27121722','38131823','49141924')):\n",
    "            board_score.append(count_steps)\n",
    "            #print('BINGO','count_steps', count_steps)\n",
    "            break\n",
    "        \n",
    "    boards_scores.append([board_score,coincidance_indexes,flat_board])\n",
    "    \n",
    "    \n",
    "    \n",
    "    #print('boards_scores:',boards_scores)\n",
    "    first_wins=[]\n",
    "    for boards_s in boards_scores:\n",
    "        first_wins.append(boards_s[0])\n",
    "    #print(first_wins)\n",
    "    board_index = first_wins.index(min(first_wins))\n",
    "    #print('winning board#: ',board_index)\n",
    "    winning_board_data = boards_scores[board_index]\n",
    "    #print(winning_board_data)\n",
    "    board = winning_board_data[2]\n",
    "    winned_indexes=winning_board_data[1]\n",
    "    #print(board)\n",
    "    #print(winned_indexes)\n",
    "    sum_score=0\n",
    "    for item in range (len(board)):\n",
    "        if item not in winned_indexes:\n",
    "            sum_score+=board[item]\n",
    "    #print(sum_score)\n",
    "    last_called_num=board[winned_indexes[-1]]\n",
    "    #print(last_called_num)\n",
    "    final_score=last_called_num*sum_score\n",
    "print(final_score)"
   ]
  },
  {
   "cell_type": "code",
   "execution_count": null,
   "metadata": {},
   "outputs": [],
   "source": []
  }
 ],
 "metadata": {
  "kernelspec": {
   "display_name": "Python 3",
   "language": "python",
   "name": "python3"
  },
  "language_info": {
   "codemirror_mode": {
    "name": "ipython",
    "version": 3
   },
   "file_extension": ".py",
   "mimetype": "text/x-python",
   "name": "python",
   "nbconvert_exporter": "python",
   "pygments_lexer": "ipython3",
   "version": "3.9.0"
  }
 },
 "nbformat": 4,
 "nbformat_minor": 4
}
