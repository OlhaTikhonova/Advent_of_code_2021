{
 "cells": [
  {
   "cell_type": "code",
   "execution_count": 45,
   "metadata": {},
   "outputs": [
    {
     "name": "stdout",
     "output_type": "stream",
     "text": [
      "((99, 0), (0, 99))\n",
      "366\n"
     ]
    }
   ],
   "source": [
    "#Part1\n",
    "from queue import PriorityQueue\n",
    "\n",
    "with open('input_D15.txt','r') as file:\n",
    "    (x,y)=(0,0)\n",
    "    canvas= dict()\n",
    "    file_content=file.readline().strip()\n",
    "    while file_content:\n",
    "        #print(file_content)\n",
    "        for num in file_content:\n",
    "            canvas[(x,y)] = int(num)\n",
    "            \n",
    "            x+=1\n",
    "        y+=1\n",
    "        x=0\n",
    "        file_content=file.readline().strip()\n",
    "#print(canvas)\n",
    "\n",
    "max_x=max(canvas.keys(), key=lambda x: x[0])\n",
    "max_y=max(canvas.keys(), key=lambda y: y[1])\n",
    "print((max_x,max_y))\n",
    "def neighbours(p):\n",
    "    (x,y) = p\n",
    "    matrix=[-1,0,1]\n",
    "    return [((x+dx),(y+dy))\n",
    "           for dx in matrix \n",
    "           for dy in matrix\n",
    "           if ((dx ==0 or dy ==0) and dx!=dy)]\n",
    "\n",
    "#print(neighbours((4,2)))\n",
    "\n",
    "\n",
    "\n",
    "seen=set()\n",
    "seen.add((0,0))\n",
    "q = PriorityQueue()\n",
    "risk=0\n",
    "location=(0,0)\n",
    "q.put((risk, location))\n",
    "\n",
    "\n",
    "while not q.empty():\n",
    "    i = q.get()\n",
    "    #print ('item',i)\n",
    "    (risk, location) = i\n",
    "    if location==(max_x[0],max_y[1]):\n",
    "        break\n",
    "    \n",
    "    for new_location in neighbours(location):\n",
    "        if new_location in canvas:\n",
    "            if new_location not in seen:\n",
    "                q.put((risk+canvas[new_location], new_location))\n",
    "                seen.add((new_location))\n",
    "    \n",
    "print(risk)\n"
   ]
  },
  {
   "cell_type": "code",
   "execution_count": null,
   "metadata": {},
   "outputs": [],
   "source": []
  }
 ],
 "metadata": {
  "kernelspec": {
   "display_name": "Python 3",
   "language": "python",
   "name": "python3"
  },
  "language_info": {
   "codemirror_mode": {
    "name": "ipython",
    "version": 3
   },
   "file_extension": ".py",
   "mimetype": "text/x-python",
   "name": "python",
   "nbconvert_exporter": "python",
   "pygments_lexer": "ipython3",
   "version": "3.9.0"
  }
 },
 "nbformat": 4,
 "nbformat_minor": 4
}
