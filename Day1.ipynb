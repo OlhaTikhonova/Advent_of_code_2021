{
 "cells": [
  {
   "cell_type": "code",
   "execution_count": 22,
   "metadata": {},
   "outputs": [
    {
     "name": "stdout",
     "output_type": "stream",
     "text": [
      "['199', '200', '208', '210', '200', '207', '240', '269', '260', '263']\n",
      "10\n",
      "199 200 incresed\n",
      "200 208 incresed\n",
      "208 210 incresed\n",
      "200 207 incresed\n",
      "207 240 incresed\n",
      "240 269 incresed\n",
      "260 263 incresed\n",
      "7\n"
     ]
    }
   ],
   "source": [
    "#Part1_test\n",
    "input_data1=open('input_D1_test.txt','r')\n",
    "input_numbers=input_data1.read().strip().split('\\n')\n",
    "input_data1.close()\n",
    "print(input_numbers)\n",
    "\n",
    "count=0\n",
    "print(len(input_numbers))\n",
    "for i in range(0,len(input_numbers)-1):\n",
    "    if int(input_numbers[i+1])>int(input_numbers[i]):\n",
    "        count+=1\n",
    "        print(input_numbers[i],input_numbers[i+1],\"incresed\")\n",
    "print(count)\n"
   ]
  },
  {
   "cell_type": "code",
   "execution_count": 25,
   "metadata": {},
   "outputs": [
    {
     "name": "stdout",
     "output_type": "stream",
     "text": [
      "1162\n"
     ]
    }
   ],
   "source": [
    "#Part1_my data\n",
    "input_data1=open('input_D1.txt','r')\n",
    "input_numbers=input_data1.read().strip().split('\\n')\n",
    "input_data1.close()\n",
    "#print(input_numbers)\n",
    "\n",
    "count=0\n",
    "#print(len(input_numbers))\n",
    "for i in range(0,len(input_numbers)-1):\n",
    "    if int(input_numbers[i+1])>int(input_numbers[i]):\n",
    "        count+=1\n",
    "        #print(input_numbers[i],input_numbers[i+1],\"incresed\")\n",
    "print(count)"
   ]
  },
  {
   "cell_type": "code",
   "execution_count": 27,
   "metadata": {},
   "outputs": [
    {
     "name": "stdout",
     "output_type": "stream",
     "text": [
      "['199', '200', '208', '210', '200', '207', '240', '269', '260', '263']\n",
      "607 618 incresed\n",
      "617 647 incresed\n",
      "647 716 incresed\n",
      "716 769 incresed\n",
      "769 792 incresed\n",
      "5\n"
     ]
    }
   ],
   "source": [
    "#Part2_test\n",
    "input_data1=open('input_D1_test.txt','r')\n",
    "input_numbers=input_data1.read().strip().split('\\n')\n",
    "input_data1.close()\n",
    "print(input_numbers)\n",
    "\n",
    "count = 0\n",
    "\n",
    "for i in range(0,len(input_numbers)-3):\n",
    "    first_group=int(input_numbers[i])+int(input_numbers[i+1])+int(input_numbers[i+2])\n",
    "    second_group=int(input_numbers[i+3])+int(input_numbers[i+1])+int(input_numbers[i+2])\n",
    "    if second_group>first_group:\n",
    "        count+=1\n",
    "        print(first_group,second_group,\"incresed\")\n",
    "print(count)\n",
    "\n"
   ]
  },
  {
   "cell_type": "code",
   "execution_count": 29,
   "metadata": {},
   "outputs": [
    {
     "name": "stdout",
     "output_type": "stream",
     "text": [
      "1190\n"
     ]
    }
   ],
   "source": [
    "#Part2_my _data\n",
    "input_data1=open('input_D1.txt','r')\n",
    "input_numbers=input_data1.read().strip().split('\\n')\n",
    "input_data1.close()\n",
    "#print(input_numbers)\n",
    "\n",
    "count = 0\n",
    "\n",
    "for i in range(0,len(input_numbers)-3):\n",
    "    first_group=int(input_numbers[i])+int(input_numbers[i+1])+int(input_numbers[i+2])\n",
    "    second_group=int(input_numbers[i+3])+int(input_numbers[i+1])+int(input_numbers[i+2])\n",
    "    if second_group>first_group:\n",
    "        count+=1\n",
    "        #print(first_group,second_group,\"incresed\")\n",
    "print(count)\n",
    "\n"
   ]
  },
  {
   "cell_type": "code",
   "execution_count": null,
   "metadata": {},
   "outputs": [],
   "source": []
  }
 ],
 "metadata": {
  "kernelspec": {
   "display_name": "Python 3",
   "language": "python",
   "name": "python3"
  },
  "language_info": {
   "codemirror_mode": {
    "name": "ipython",
    "version": 3
   },
   "file_extension": ".py",
   "mimetype": "text/x-python",
   "name": "python",
   "nbconvert_exporter": "python",
   "pygments_lexer": "ipython3",
   "version": "3.9.0"
  }
 },
 "nbformat": 4,
 "nbformat_minor": 4
}
